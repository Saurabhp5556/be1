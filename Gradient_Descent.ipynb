{
 "cells": [
  {
   "cell_type": "code",
   "execution_count": 2,
   "id": "dd2eaf85-5504-478f-a42e-e7af51c83420",
   "metadata": {},
   "outputs": [
    {
     "name": "stdout",
     "output_type": "stream",
     "text": [
      "Value of x: -2.999995096014269\n",
      "value of function: 2.4049076048192486e-11\n"
     ]
    }
   ],
   "source": [
    "def function(x):\n",
    "    return (x+3)**2\n",
    "\n",
    "def derivative(x):\n",
    "    return 2*(x+3)\n",
    "\n",
    "x=2\n",
    "alpha=0.1\n",
    "\n",
    "iterations=1000\n",
    "tolerance=1e-6\n",
    "\n",
    "for i in range(iterations):\n",
    "    gradient=derivative(x)\n",
    "    new_x=x-alpha*gradient\n",
    "    if abs(new_x-x)<tolerance:\n",
    "        break\n",
    "    x=new_x\n",
    "\n",
    "print(\"Value of x:\", x)\n",
    "print(\"value of function:\", function(x))"
   ]
  },
  {
   "cell_type": "code",
   "execution_count": null,
   "id": "684b17ac-a034-4473-8e5c-abe0e4751df5",
   "metadata": {},
   "outputs": [],
   "source": []
  }
 ],
 "metadata": {
  "kernelspec": {
   "display_name": "Python 3 (ipykernel)",
   "language": "python",
   "name": "python3"
  },
  "language_info": {
   "codemirror_mode": {
    "name": "ipython",
    "version": 3
   },
   "file_extension": ".py",
   "mimetype": "text/x-python",
   "name": "python",
   "nbconvert_exporter": "python",
   "pygments_lexer": "ipython3",
   "version": "3.12.1"
  }
 },
 "nbformat": 4,
 "nbformat_minor": 5
}
